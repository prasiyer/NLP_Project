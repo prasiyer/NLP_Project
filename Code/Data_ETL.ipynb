{
 "cells": [
  {
   "cell_type": "code",
   "execution_count": 95,
   "metadata": {},
   "outputs": [],
   "source": [
    "#!conda info"
   ]
  },
  {
   "cell_type": "markdown",
   "metadata": {},
   "source": [
    "#### Import the required libaries ####"
   ]
  },
  {
   "cell_type": "code",
   "execution_count": 96,
   "metadata": {},
   "outputs": [],
   "source": [
    "import re\n",
    "import numpy as np\n",
    "import pandas as pd\n",
    "#from nltk.tokenize import word_tokenize\n",
    "#from nltk.stem import WordNetLemmatizer\n",
    "\n",
    "from sklearn.metrics import confusion_matrix\n",
    "from sklearn.ensemble import RandomForestClassifier\n",
    "from sklearn.model_selection import train_test_split\n",
    "from sklearn.pipeline import Pipeline, FeatureUnion\n",
    "from sklearn.base import BaseEstimator, TransformerMixin\n",
    "from sklearn.feature_extraction.text import CountVectorizer, TfidfTransformer"
   ]
  },
  {
   "cell_type": "code",
   "execution_count": 97,
   "metadata": {},
   "outputs": [],
   "source": [
    "import seaborn as sns\n",
    "import matplotlib.pyplot as plt"
   ]
  },
  {
   "cell_type": "code",
   "execution_count": 98,
   "metadata": {},
   "outputs": [],
   "source": [
    "from sqlalchemy import create_engine"
   ]
  },
  {
   "cell_type": "markdown",
   "metadata": {},
   "source": [
    "#### Import the data ####"
   ]
  },
  {
   "cell_type": "code",
   "execution_count": 99,
   "metadata": {},
   "outputs": [],
   "source": [
    "msg_df = pd.read_csv('/data2/home/prasannaiyer/Projects/NLP_Project/Data/disaster_messages.csv')"
   ]
  },
  {
   "cell_type": "code",
   "execution_count": 100,
   "metadata": {},
   "outputs": [],
   "source": [
    "category_df = pd.read_csv('/home/prasannaiyer/Projects/NLP_Project/Data/disaster_categories.csv')"
   ]
  },
  {
   "cell_type": "code",
   "execution_count": 101,
   "metadata": {},
   "outputs": [],
   "source": [
    "consol_df = msg_df.merge(category_df, left_on = 'id', right_on = 'id')"
   ]
  },
  {
   "cell_type": "markdown",
   "metadata": {},
   "source": [
    "#### Question 1: What is the count of messages by genre? ####"
   ]
  },
  {
   "cell_type": "code",
   "execution_count": 102,
   "metadata": {},
   "outputs": [],
   "source": [
    "msg_genre = pd.Series(data = msg_df['genre'].value_counts().values/msg_df['genre'].value_counts().sum(), \\\n",
    "    index = msg_df['genre'].value_counts().index)\n",
    "msg_genre = (msg_genre*100).round(0).astype(int)"
   ]
  },
  {
   "cell_type": "code",
   "execution_count": 103,
   "metadata": {},
   "outputs": [
    {
     "data": {
      "text/plain": [
       "[Text(0, 0, '13068'), Text(0, 0, '10782'), Text(0, 0, '2398')]"
      ]
     },
     "execution_count": 103,
     "metadata": {},
     "output_type": "execute_result"
    },
    {
     "data": {
      "image/png": "[encoded data removed]",
      "text/plain": [
       "<Figure size 720x432 with 1 Axes>"
      ]
     },
     "metadata": {
      "needs_background": "light"
     },
     "output_type": "display_data"
    }
   ],
   "source": [
    "plt.figure(figsize = (10, 6))\n",
    "ax = sns.barplot(x = msg_df['genre'].value_counts().index, y = msg_df['genre'].value_counts().values)\n",
    "plt.setp(ax.artists, alpha=.5, linewidth=2, edgecolor=\"k\")\n",
    "plt.xticks(rotation=45)\n",
    "ax.set_title('COUNT OF MESSAGES BY GENRE')\n",
    "ax.bar_label(ax.containers[0])\n",
    "\n"
   ]
  },
  {
   "cell_type": "markdown",
   "metadata": {},
   "source": [
    "#### Split the categories column into individual columns representing each category ####\n",
    "##### Change column name to reflect each category name ###"
   ]
  },
  {
   "cell_type": "code",
   "execution_count": 105,
   "metadata": {},
   "outputs": [],
   "source": [
    "categories = consol_df['categories'].str.split(pat = ';', expand = True)"
   ]
  },
  {
   "cell_type": "code",
   "execution_count": 107,
   "metadata": {},
   "outputs": [],
   "source": [
    "cat_names = categories[0:1].apply(lambda x: x.str[:-2]).astype(str)"
   ]
  },
  {
   "cell_type": "code",
   "execution_count": 109,
   "metadata": {},
   "outputs": [],
   "source": [
    "categories.columns = cat_names.values.flatten().tolist()"
   ]
  },
  {
   "cell_type": "code",
   "execution_count": 67,
   "metadata": {},
   "outputs": [
    {
     "name": "stdout",
     "output_type": "stream",
     "text": [
      "column name -- child_alone last char --  1\n"
     ]
    }
   ],
   "source": [
    "##WIP\n",
    "#for column in categories.columns:\n",
    "    #if categories[column].str[-1] not in ['0','1']:\n",
    "    #print('column name --', column, 'last char -- ',categories[column].str[-1].unique().size)\n",
    " #   if categories[column].str[-1].unique().size == 1:\n",
    "  #      print('column name --', column, 'last char -- ',categories[column].str[-1].unique().size)"
   ]
  },
  {
   "cell_type": "code",
   "execution_count": null,
   "metadata": {},
   "outputs": [],
   "source": []
  },
  {
   "cell_type": "markdown",
   "metadata": {},
   "source": [
    "#### Change the values of each Category to integer type"
   ]
  },
  {
   "cell_type": "code",
   "execution_count": 68,
   "metadata": {},
   "outputs": [],
   "source": [
    "for column in categories.columns:\n",
    "    categories[column] = categories[column].str[-1].astype(int)\n",
    "    categories[column] = categories[column].apply(lambda x: 1 if x > 1 else x)"
   ]
  },
  {
   "cell_type": "markdown",
   "metadata": {},
   "source": [
    "#### Create new Dataframe with category columns and values"
   ]
  },
  {
   "cell_type": "code",
   "execution_count": 70,
   "metadata": {},
   "outputs": [],
   "source": [
    "msg_cat_df = pd.concat([consol_df, categories], axis = 1)"
   ]
  },
  {
   "cell_type": "code",
   "execution_count": 71,
   "metadata": {},
   "outputs": [],
   "source": [
    "msg_cat_df.drop(columns = ['categories'], axis = 1, inplace = True)"
   ]
  },
  {
   "cell_type": "markdown",
   "metadata": {},
   "source": [
    "#### Remove duplicate data in new Dataframe"
   ]
  },
  {
   "cell_type": "code",
   "execution_count": 72,
   "metadata": {},
   "outputs": [],
   "source": [
    "msg_cat_clean_df = msg_cat_df.drop_duplicates()"
   ]
  },
  {
   "cell_type": "markdown",
   "metadata": {},
   "source": [
    "#### Upload Dataframe to a table within SQLite database"
   ]
  },
  {
   "cell_type": "code",
   "execution_count": 75,
   "metadata": {},
   "outputs": [],
   "source": [
    "engine = create_engine('sqlite:////home/prasannaiyer/Projects/NLP_Project/Data/DisasterResponse.db')"
   ]
  },
  {
   "cell_type": "code",
   "execution_count": 27,
   "metadata": {},
   "outputs": [],
   "source": [
    "msg_cat_clean_df.to_sql('Message_Category', engine, index=False, if_exists = 'replace')"
   ]
  },
  {
   "cell_type": "markdown",
   "metadata": {},
   "source": [
    "#### Exploratory data analysis"
   ]
  },
  {
   "cell_type": "code",
   "execution_count": 88,
   "metadata": {},
   "outputs": [],
   "source": [
    "category_yes = msg_cat_clean_df.loc[:, ~msg_cat_clean_df.columns.isin(['id', 'genre', 'message', 'original'])].sum().values\n",
    "category_all = msg_cat_clean_df.loc[:, ~msg_cat_clean_df.columns.isin(['id', 'genre', 'message', 'original'])].count().values\n",
    "category_names = msg_cat_clean_df.columns[~msg_cat_clean_df.columns.isin(['id', 'genre', 'message', 'original'])]\n",
    "category_summary_dict = {'Category_Name': category_names, 'Total_Yes': category_yes, 'Total_All': category_all}\n",
    "category_summary = pd.DataFrame(category_summary_dict)"
   ]
  },
  {
   "cell_type": "code",
   "execution_count": 90,
   "metadata": {},
   "outputs": [],
   "source": [
    "category_summary['Yes_Pct'] = category_summary['Total_Yes']/category_summary['Total_All']"
   ]
  },
  {
   "cell_type": "code",
   "execution_count": 124,
   "metadata": {},
   "outputs": [
    {
     "name": "stdout",
     "output_type": "stream",
     "text": [
      "These categories  ['offer', 'child_alone', 'tools', 'shops']  have less than 10% YES values\n"
     ]
    }
   ],
   "source": [
    "print('These categories ', category_summary[category_summary['Yes_Pct'] < 0.01]['Category_Name'].values.flatten().tolist(), ' have less than 10% YES values')"
   ]
  },
  {
   "cell_type": "code",
   "execution_count": 92,
   "metadata": {},
   "outputs": [
    {
     "data": {
      "text/html": [
       "<style type=\"text/css\">\n",
       "</style>\n",
       "<table id=\"T_1056c_\">\n",
       "  <thead>\n",
       "    <tr>\n",
       "      <th class=\"blank level0\" >&nbsp;</th>\n",
       "      <th class=\"col_heading level0 col0\" >Category_Name</th>\n",
       "      <th class=\"col_heading level0 col1\" >Total_Yes</th>\n",
       "      <th class=\"col_heading level0 col2\" >Total_All</th>\n",
       "      <th class=\"col_heading level0 col3\" >Yes_Pct</th>\n",
       "    </tr>\n",
       "  </thead>\n",
       "  <tbody>\n",
       "    <tr>\n",
       "      <th id=\"T_1056c_level0_row0\" class=\"row_heading level0 row0\" >9</th>\n",
       "      <td id=\"T_1056c_row0_col0\" class=\"data row0 col0\" >child_alone</td>\n",
       "      <td id=\"T_1056c_row0_col1\" class=\"data row0 col1\" >0</td>\n",
       "      <td id=\"T_1056c_row0_col2\" class=\"data row0 col2\" >26,215</td>\n",
       "      <td id=\"T_1056c_row0_col3\" class=\"data row0 col3\" >0.00</td>\n",
       "    </tr>\n",
       "    <tr>\n",
       "      <th id=\"T_1056c_level0_row1\" class=\"row_heading level0 row1\" >2</th>\n",
       "      <td id=\"T_1056c_row1_col0\" class=\"data row1 col0\" >offer</td>\n",
       "      <td id=\"T_1056c_row1_col1\" class=\"data row1 col1\" >118</td>\n",
       "      <td id=\"T_1056c_row1_col2\" class=\"data row1 col2\" >26,215</td>\n",
       "      <td id=\"T_1056c_row1_col3\" class=\"data row1 col3\" >0.00</td>\n",
       "    </tr>\n",
       "    <tr>\n",
       "      <th id=\"T_1056c_level0_row2\" class=\"row_heading level0 row2\" >25</th>\n",
       "      <td id=\"T_1056c_row2_col0\" class=\"data row2 col0\" >shops</td>\n",
       "      <td id=\"T_1056c_row2_col1\" class=\"data row2 col1\" >120</td>\n",
       "      <td id=\"T_1056c_row2_col2\" class=\"data row2 col2\" >26,215</td>\n",
       "      <td id=\"T_1056c_row2_col3\" class=\"data row2 col3\" >0.00</td>\n",
       "    </tr>\n",
       "    <tr>\n",
       "      <th id=\"T_1056c_level0_row3\" class=\"row_heading level0 row3\" >23</th>\n",
       "      <td id=\"T_1056c_row3_col0\" class=\"data row3 col0\" >tools</td>\n",
       "      <td id=\"T_1056c_row3_col1\" class=\"data row3 col1\" >159</td>\n",
       "      <td id=\"T_1056c_row3_col2\" class=\"data row3 col2\" >26,215</td>\n",
       "      <td id=\"T_1056c_row3_col3\" class=\"data row3 col3\" >0.01</td>\n",
       "    </tr>\n",
       "    <tr>\n",
       "      <th id=\"T_1056c_level0_row4\" class=\"row_heading level0 row4\" >31</th>\n",
       "      <td id=\"T_1056c_row4_col0\" class=\"data row4 col0\" >fire</td>\n",
       "      <td id=\"T_1056c_row4_col1\" class=\"data row4 col1\" >282</td>\n",
       "      <td id=\"T_1056c_row4_col2\" class=\"data row4 col2\" >26,215</td>\n",
       "      <td id=\"T_1056c_row4_col3\" class=\"data row4 col3\" >0.01</td>\n",
       "    </tr>\n",
       "    <tr>\n",
       "      <th id=\"T_1056c_level0_row5\" class=\"row_heading level0 row5\" >24</th>\n",
       "      <td id=\"T_1056c_row5_col0\" class=\"data row5 col0\" >hospitals</td>\n",
       "      <td id=\"T_1056c_row5_col1\" class=\"data row5 col1\" >283</td>\n",
       "      <td id=\"T_1056c_row5_col2\" class=\"data row5 col2\" >26,215</td>\n",
       "      <td id=\"T_1056c_row5_col3\" class=\"data row5 col3\" >0.01</td>\n",
       "    </tr>\n",
       "    <tr>\n",
       "      <th id=\"T_1056c_level0_row6\" class=\"row_heading level0 row6\" >15</th>\n",
       "      <td id=\"T_1056c_row6_col0\" class=\"data row6 col0\" >missing_people</td>\n",
       "      <td id=\"T_1056c_row6_col1\" class=\"data row6 col1\" >298</td>\n",
       "      <td id=\"T_1056c_row6_col2\" class=\"data row6 col2\" >26,215</td>\n",
       "      <td id=\"T_1056c_row6_col3\" class=\"data row6 col3\" >0.01</td>\n",
       "    </tr>\n",
       "    <tr>\n",
       "      <th id=\"T_1056c_level0_row7\" class=\"row_heading level0 row7\" >26</th>\n",
       "      <td id=\"T_1056c_row7_col0\" class=\"data row7 col0\" >aid_centers</td>\n",
       "      <td id=\"T_1056c_row7_col1\" class=\"data row7 col1\" >309</td>\n",
       "      <td id=\"T_1056c_row7_col2\" class=\"data row7 col2\" >26,215</td>\n",
       "      <td id=\"T_1056c_row7_col3\" class=\"data row7 col3\" >0.01</td>\n",
       "    </tr>\n",
       "    <tr>\n",
       "      <th id=\"T_1056c_level0_row8\" class=\"row_heading level0 row8\" >13</th>\n",
       "      <td id=\"T_1056c_row8_col0\" class=\"data row8 col0\" >clothing</td>\n",
       "      <td id=\"T_1056c_row8_col1\" class=\"data row8 col1\" >405</td>\n",
       "      <td id=\"T_1056c_row8_col2\" class=\"data row8 col2\" >26,215</td>\n",
       "      <td id=\"T_1056c_row8_col3\" class=\"data row8 col3\" >0.02</td>\n",
       "    </tr>\n",
       "    <tr>\n",
       "      <th id=\"T_1056c_level0_row9\" class=\"row_heading level0 row9\" >7</th>\n",
       "      <td id=\"T_1056c_row9_col0\" class=\"data row9 col0\" >security</td>\n",
       "      <td id=\"T_1056c_row9_col1\" class=\"data row9 col1\" >471</td>\n",
       "      <td id=\"T_1056c_row9_col2\" class=\"data row9 col2\" >26,215</td>\n",
       "      <td id=\"T_1056c_row9_col3\" class=\"data row9 col3\" >0.02</td>\n",
       "    </tr>\n",
       "    <tr>\n",
       "      <th id=\"T_1056c_level0_row10\" class=\"row_heading level0 row10\" >33</th>\n",
       "      <td id=\"T_1056c_row10_col0\" class=\"data row10 col0\" >cold</td>\n",
       "      <td id=\"T_1056c_row10_col1\" class=\"data row10 col1\" >530</td>\n",
       "      <td id=\"T_1056c_row10_col2\" class=\"data row10 col2\" >26,215</td>\n",
       "      <td id=\"T_1056c_row10_col3\" class=\"data row10 col3\" >0.02</td>\n",
       "    </tr>\n",
       "    <tr>\n",
       "      <th id=\"T_1056c_level0_row11\" class=\"row_heading level0 row11\" >22</th>\n",
       "      <td id=\"T_1056c_row11_col0\" class=\"data row11 col0\" >electricity</td>\n",
       "      <td id=\"T_1056c_row11_col1\" class=\"data row11 col1\" >532</td>\n",
       "      <td id=\"T_1056c_row11_col2\" class=\"data row11 col2\" >26,215</td>\n",
       "      <td id=\"T_1056c_row11_col3\" class=\"data row11 col3\" >0.02</td>\n",
       "    </tr>\n",
       "    <tr>\n",
       "      <th id=\"T_1056c_level0_row12\" class=\"row_heading level0 row12\" >14</th>\n",
       "      <td id=\"T_1056c_row12_col0\" class=\"data row12 col0\" >money</td>\n",
       "      <td id=\"T_1056c_row12_col1\" class=\"data row12 col1\" >604</td>\n",
       "      <td id=\"T_1056c_row12_col2\" class=\"data row12 col2\" >26,215</td>\n",
       "      <td id=\"T_1056c_row12_col3\" class=\"data row12 col3\" >0.02</td>\n",
       "    </tr>\n",
       "    <tr>\n",
       "      <th id=\"T_1056c_level0_row13\" class=\"row_heading level0 row13\" >6</th>\n",
       "      <td id=\"T_1056c_row13_col0\" class=\"data row13 col0\" >search_and_rescue</td>\n",
       "      <td id=\"T_1056c_row13_col1\" class=\"data row13 col1\" >724</td>\n",
       "      <td id=\"T_1056c_row13_col2\" class=\"data row13 col2\" >26,215</td>\n",
       "      <td id=\"T_1056c_row13_col3\" class=\"data row13 col3\" >0.03</td>\n",
       "    </tr>\n",
       "    <tr>\n",
       "      <th id=\"T_1056c_level0_row14\" class=\"row_heading level0 row14\" >8</th>\n",
       "      <td id=\"T_1056c_row14_col0\" class=\"data row14 col0\" >military</td>\n",
       "      <td id=\"T_1056c_row14_col1\" class=\"data row14 col1\" >860</td>\n",
       "      <td id=\"T_1056c_row14_col2\" class=\"data row14 col2\" >26,215</td>\n",
       "      <td id=\"T_1056c_row14_col3\" class=\"data row14 col3\" >0.03</td>\n",
       "    </tr>\n",
       "    <tr>\n",
       "      <th id=\"T_1056c_level0_row15\" class=\"row_heading level0 row15\" >16</th>\n",
       "      <td id=\"T_1056c_row15_col0\" class=\"data row15 col0\" >refugees</td>\n",
       "      <td id=\"T_1056c_row15_col1\" class=\"data row15 col1\" >875</td>\n",
       "      <td id=\"T_1056c_row15_col2\" class=\"data row15 col2\" >26,215</td>\n",
       "      <td id=\"T_1056c_row15_col3\" class=\"data row15 col3\" >0.03</td>\n",
       "    </tr>\n",
       "    <tr>\n",
       "      <th id=\"T_1056c_level0_row16\" class=\"row_heading level0 row16\" >27</th>\n",
       "      <td id=\"T_1056c_row16_col0\" class=\"data row16 col0\" >other_infrastructure</td>\n",
       "      <td id=\"T_1056c_row16_col1\" class=\"data row16 col1\" >1,151</td>\n",
       "      <td id=\"T_1056c_row16_col2\" class=\"data row16 col2\" >26,215</td>\n",
       "      <td id=\"T_1056c_row16_col3\" class=\"data row16 col3\" >0.04</td>\n",
       "    </tr>\n",
       "    <tr>\n",
       "      <th id=\"T_1056c_level0_row17\" class=\"row_heading level0 row17\" >17</th>\n",
       "      <td id=\"T_1056c_row17_col0\" class=\"data row17 col0\" >death</td>\n",
       "      <td id=\"T_1056c_row17_col1\" class=\"data row17 col1\" >1,194</td>\n",
       "      <td id=\"T_1056c_row17_col2\" class=\"data row17 col2\" >26,215</td>\n",
       "      <td id=\"T_1056c_row17_col3\" class=\"data row17 col3\" >0.05</td>\n",
       "    </tr>\n",
       "    <tr>\n",
       "      <th id=\"T_1056c_level0_row18\" class=\"row_heading level0 row18\" >20</th>\n",
       "      <td id=\"T_1056c_row18_col0\" class=\"data row18 col0\" >transport</td>\n",
       "      <td id=\"T_1056c_row18_col1\" class=\"data row18 col1\" >1,201</td>\n",
       "      <td id=\"T_1056c_row18_col2\" class=\"data row18 col2\" >26,215</td>\n",
       "      <td id=\"T_1056c_row18_col3\" class=\"data row18 col3\" >0.05</td>\n",
       "    </tr>\n",
       "    <tr>\n",
       "      <th id=\"T_1056c_level0_row19\" class=\"row_heading level0 row19\" >5</th>\n",
       "      <td id=\"T_1056c_row19_col0\" class=\"data row19 col0\" >medical_products</td>\n",
       "      <td id=\"T_1056c_row19_col1\" class=\"data row19 col1\" >1,313</td>\n",
       "      <td id=\"T_1056c_row19_col2\" class=\"data row19 col2\" >26,215</td>\n",
       "      <td id=\"T_1056c_row19_col3\" class=\"data row19 col3\" >0.05</td>\n",
       "    </tr>\n",
       "    <tr>\n",
       "      <th id=\"T_1056c_level0_row20\" class=\"row_heading level0 row20\" >21</th>\n",
       "      <td id=\"T_1056c_row20_col0\" class=\"data row20 col0\" >buildings</td>\n",
       "      <td id=\"T_1056c_row20_col1\" class=\"data row20 col1\" >1,333</td>\n",
       "      <td id=\"T_1056c_row20_col2\" class=\"data row20 col2\" >26,215</td>\n",
       "      <td id=\"T_1056c_row20_col3\" class=\"data row20 col3\" >0.05</td>\n",
       "    </tr>\n",
       "    <tr>\n",
       "      <th id=\"T_1056c_level0_row21\" class=\"row_heading level0 row21\" >34</th>\n",
       "      <td id=\"T_1056c_row21_col0\" class=\"data row21 col0\" >other_weather</td>\n",
       "      <td id=\"T_1056c_row21_col1\" class=\"data row21 col1\" >1,376</td>\n",
       "      <td id=\"T_1056c_row21_col2\" class=\"data row21 col2\" >26,215</td>\n",
       "      <td id=\"T_1056c_row21_col3\" class=\"data row21 col3\" >0.05</td>\n",
       "    </tr>\n",
       "    <tr>\n",
       "      <th id=\"T_1056c_level0_row22\" class=\"row_heading level0 row22\" >10</th>\n",
       "      <td id=\"T_1056c_row22_col0\" class=\"data row22 col0\" >water</td>\n",
       "      <td id=\"T_1056c_row22_col1\" class=\"data row22 col1\" >1,672</td>\n",
       "      <td id=\"T_1056c_row22_col2\" class=\"data row22 col2\" >26,215</td>\n",
       "      <td id=\"T_1056c_row22_col3\" class=\"data row22 col3\" >0.06</td>\n",
       "    </tr>\n",
       "    <tr>\n",
       "      <th id=\"T_1056c_level0_row23\" class=\"row_heading level0 row23\" >19</th>\n",
       "      <td id=\"T_1056c_row23_col0\" class=\"data row23 col0\" >infrastructure_related</td>\n",
       "      <td id=\"T_1056c_row23_col1\" class=\"data row23 col1\" >1,705</td>\n",
       "      <td id=\"T_1056c_row23_col2\" class=\"data row23 col2\" >26,215</td>\n",
       "      <td id=\"T_1056c_row23_col3\" class=\"data row23 col3\" >0.07</td>\n",
       "    </tr>\n",
       "    <tr>\n",
       "      <th id=\"T_1056c_level0_row24\" class=\"row_heading level0 row24\" >4</th>\n",
       "      <td id=\"T_1056c_row24_col0\" class=\"data row24 col0\" >medical_help</td>\n",
       "      <td id=\"T_1056c_row24_col1\" class=\"data row24 col1\" >2,084</td>\n",
       "      <td id=\"T_1056c_row24_col2\" class=\"data row24 col2\" >26,215</td>\n",
       "      <td id=\"T_1056c_row24_col3\" class=\"data row24 col3\" >0.08</td>\n",
       "    </tr>\n",
       "    <tr>\n",
       "      <th id=\"T_1056c_level0_row25\" class=\"row_heading level0 row25\" >29</th>\n",
       "      <td id=\"T_1056c_row25_col0\" class=\"data row25 col0\" >floods</td>\n",
       "      <td id=\"T_1056c_row25_col1\" class=\"data row25 col1\" >2,155</td>\n",
       "      <td id=\"T_1056c_row25_col2\" class=\"data row25 col2\" >26,215</td>\n",
       "      <td id=\"T_1056c_row25_col3\" class=\"data row25 col3\" >0.08</td>\n",
       "    </tr>\n",
       "    <tr>\n",
       "      <th id=\"T_1056c_level0_row26\" class=\"row_heading level0 row26\" >12</th>\n",
       "      <td id=\"T_1056c_row26_col0\" class=\"data row26 col0\" >shelter</td>\n",
       "      <td id=\"T_1056c_row26_col1\" class=\"data row26 col1\" >2,314</td>\n",
       "      <td id=\"T_1056c_row26_col2\" class=\"data row26 col2\" >26,215</td>\n",
       "      <td id=\"T_1056c_row26_col3\" class=\"data row26 col3\" >0.09</td>\n",
       "    </tr>\n",
       "    <tr>\n",
       "      <th id=\"T_1056c_level0_row27\" class=\"row_heading level0 row27\" >30</th>\n",
       "      <td id=\"T_1056c_row27_col0\" class=\"data row27 col0\" >storm</td>\n",
       "      <td id=\"T_1056c_row27_col1\" class=\"data row27 col1\" >2,443</td>\n",
       "      <td id=\"T_1056c_row27_col2\" class=\"data row27 col2\" >26,215</td>\n",
       "      <td id=\"T_1056c_row27_col3\" class=\"data row27 col3\" >0.09</td>\n",
       "    </tr>\n",
       "    <tr>\n",
       "      <th id=\"T_1056c_level0_row28\" class=\"row_heading level0 row28\" >32</th>\n",
       "      <td id=\"T_1056c_row28_col0\" class=\"data row28 col0\" >earthquake</td>\n",
       "      <td id=\"T_1056c_row28_col1\" class=\"data row28 col1\" >2,455</td>\n",
       "      <td id=\"T_1056c_row28_col2\" class=\"data row28 col2\" >26,215</td>\n",
       "      <td id=\"T_1056c_row28_col3\" class=\"data row28 col3\" >0.09</td>\n",
       "    </tr>\n",
       "    <tr>\n",
       "      <th id=\"T_1056c_level0_row29\" class=\"row_heading level0 row29\" >11</th>\n",
       "      <td id=\"T_1056c_row29_col0\" class=\"data row29 col0\" >food</td>\n",
       "      <td id=\"T_1056c_row29_col1\" class=\"data row29 col1\" >2,923</td>\n",
       "      <td id=\"T_1056c_row29_col2\" class=\"data row29 col2\" >26,215</td>\n",
       "      <td id=\"T_1056c_row29_col3\" class=\"data row29 col3\" >0.11</td>\n",
       "    </tr>\n",
       "    <tr>\n",
       "      <th id=\"T_1056c_level0_row30\" class=\"row_heading level0 row30\" >18</th>\n",
       "      <td id=\"T_1056c_row30_col0\" class=\"data row30 col0\" >other_aid</td>\n",
       "      <td id=\"T_1056c_row30_col1\" class=\"data row30 col1\" >3,446</td>\n",
       "      <td id=\"T_1056c_row30_col2\" class=\"data row30 col2\" >26,215</td>\n",
       "      <td id=\"T_1056c_row30_col3\" class=\"data row30 col3\" >0.13</td>\n",
       "    </tr>\n",
       "    <tr>\n",
       "      <th id=\"T_1056c_level0_row31\" class=\"row_heading level0 row31\" >1</th>\n",
       "      <td id=\"T_1056c_row31_col0\" class=\"data row31 col0\" >request</td>\n",
       "      <td id=\"T_1056c_row31_col1\" class=\"data row31 col1\" >4,474</td>\n",
       "      <td id=\"T_1056c_row31_col2\" class=\"data row31 col2\" >26,215</td>\n",
       "      <td id=\"T_1056c_row31_col3\" class=\"data row31 col3\" >0.17</td>\n",
       "    </tr>\n",
       "    <tr>\n",
       "      <th id=\"T_1056c_level0_row32\" class=\"row_heading level0 row32\" >35</th>\n",
       "      <td id=\"T_1056c_row32_col0\" class=\"data row32 col0\" >direct_report</td>\n",
       "      <td id=\"T_1056c_row32_col1\" class=\"data row32 col1\" >5,075</td>\n",
       "      <td id=\"T_1056c_row32_col2\" class=\"data row32 col2\" >26,215</td>\n",
       "      <td id=\"T_1056c_row32_col3\" class=\"data row32 col3\" >0.19</td>\n",
       "    </tr>\n",
       "    <tr>\n",
       "      <th id=\"T_1056c_level0_row33\" class=\"row_heading level0 row33\" >28</th>\n",
       "      <td id=\"T_1056c_row33_col0\" class=\"data row33 col0\" >weather_related</td>\n",
       "      <td id=\"T_1056c_row33_col1\" class=\"data row33 col1\" >7,297</td>\n",
       "      <td id=\"T_1056c_row33_col2\" class=\"data row33 col2\" >26,215</td>\n",
       "      <td id=\"T_1056c_row33_col3\" class=\"data row33 col3\" >0.28</td>\n",
       "    </tr>\n",
       "    <tr>\n",
       "      <th id=\"T_1056c_level0_row34\" class=\"row_heading level0 row34\" >3</th>\n",
       "      <td id=\"T_1056c_row34_col0\" class=\"data row34 col0\" >aid_related</td>\n",
       "      <td id=\"T_1056c_row34_col1\" class=\"data row34 col1\" >10,860</td>\n",
       "      <td id=\"T_1056c_row34_col2\" class=\"data row34 col2\" >26,215</td>\n",
       "      <td id=\"T_1056c_row34_col3\" class=\"data row34 col3\" >0.41</td>\n",
       "    </tr>\n",
       "    <tr>\n",
       "      <th id=\"T_1056c_level0_row35\" class=\"row_heading level0 row35\" >0</th>\n",
       "      <td id=\"T_1056c_row35_col0\" class=\"data row35 col0\" >related</td>\n",
       "      <td id=\"T_1056c_row35_col1\" class=\"data row35 col1\" >20,093</td>\n",
       "      <td id=\"T_1056c_row35_col2\" class=\"data row35 col2\" >26,215</td>\n",
       "      <td id=\"T_1056c_row35_col3\" class=\"data row35 col3\" >0.77</td>\n",
       "    </tr>\n",
       "  </tbody>\n",
       "</table>\n"
      ],
      "text/plain": [
       "<pandas.io.formats.style.Styler at 0x7f9e07321650>"
      ]
     },
     "execution_count": 92,
     "metadata": {},
     "output_type": "execute_result"
    }
   ],
   "source": [
    "category_summary.sort_values(by = 'Total_Yes').style.format(precision = 2, thousands = ',')"
   ]
  },
  {
   "cell_type": "code",
   "execution_count": 94,
   "metadata": {},
   "outputs": [
    {
     "data": {
      "text/html": [
       "<div>\n",
       "<style scoped>\n",
       "    .dataframe tbody tr th:only-of-type {\n",
       "        vertical-align: middle;\n",
       "    }\n",
       "\n",
       "    .dataframe tbody tr th {\n",
       "        vertical-align: top;\n",
       "    }\n",
       "\n",
       "    .dataframe thead th {\n",
       "        text-align: right;\n",
       "    }\n",
       "</style>\n",
       "<table border=\"1\" class=\"dataframe\">\n",
       "  <thead>\n",
       "    <tr style=\"text-align: right;\">\n",
       "      <th></th>\n",
       "      <th>id</th>\n",
       "      <th>message</th>\n",
       "      <th>original</th>\n",
       "      <th>genre</th>\n",
       "      <th>categories</th>\n",
       "    </tr>\n",
       "  </thead>\n",
       "  <tbody>\n",
       "    <tr>\n",
       "      <th>0</th>\n",
       "      <td>2</td>\n",
       "      <td>Weather update - a cold front from Cuba that c...</td>\n",
       "      <td>Un front froid se retrouve sur Cuba ce matin. ...</td>\n",
       "      <td>direct</td>\n",
       "      <td>related-1;request-0;offer-0;aid_related-0;medi...</td>\n",
       "    </tr>\n",
       "    <tr>\n",
       "      <th>1</th>\n",
       "      <td>7</td>\n",
       "      <td>Is the Hurricane over or is it not over</td>\n",
       "      <td>Cyclone nan fini osinon li pa fini</td>\n",
       "      <td>direct</td>\n",
       "      <td>related-1;request-0;offer-0;aid_related-1;medi...</td>\n",
       "    </tr>\n",
       "    <tr>\n",
       "      <th>2</th>\n",
       "      <td>8</td>\n",
       "      <td>Looking for someone but no name</td>\n",
       "      <td>Patnm, di Maryani relem pou li banm nouvel li ...</td>\n",
       "      <td>direct</td>\n",
       "      <td>related-1;request-0;offer-0;aid_related-0;medi...</td>\n",
       "    </tr>\n",
       "    <tr>\n",
       "      <th>3</th>\n",
       "      <td>9</td>\n",
       "      <td>UN reports Leogane 80-90 destroyed. Only Hospi...</td>\n",
       "      <td>UN reports Leogane 80-90 destroyed. Only Hospi...</td>\n",
       "      <td>direct</td>\n",
       "      <td>related-1;request-1;offer-0;aid_related-1;medi...</td>\n",
       "    </tr>\n",
       "    <tr>\n",
       "      <th>4</th>\n",
       "      <td>12</td>\n",
       "      <td>says: west side of Haiti, rest of the country ...</td>\n",
       "      <td>facade ouest d Haiti et le reste du pays aujou...</td>\n",
       "      <td>direct</td>\n",
       "      <td>related-1;request-0;offer-0;aid_related-0;medi...</td>\n",
       "    </tr>\n",
       "  </tbody>\n",
       "</table>\n",
       "</div>"
      ],
      "text/plain": [
       "   id                                            message  \\\n",
       "0   2  Weather update - a cold front from Cuba that c...   \n",
       "1   7            Is the Hurricane over or is it not over   \n",
       "2   8                    Looking for someone but no name   \n",
       "3   9  UN reports Leogane 80-90 destroyed. Only Hospi...   \n",
       "4  12  says: west side of Haiti, rest of the country ...   \n",
       "\n",
       "                                            original   genre  \\\n",
       "0  Un front froid se retrouve sur Cuba ce matin. ...  direct   \n",
       "1                 Cyclone nan fini osinon li pa fini  direct   \n",
       "2  Patnm, di Maryani relem pou li banm nouvel li ...  direct   \n",
       "3  UN reports Leogane 80-90 destroyed. Only Hospi...  direct   \n",
       "4  facade ouest d Haiti et le reste du pays aujou...  direct   \n",
       "\n",
       "                                          categories  \n",
       "0  related-1;request-0;offer-0;aid_related-0;medi...  \n",
       "1  related-1;request-0;offer-0;aid_related-1;medi...  \n",
       "2  related-1;request-0;offer-0;aid_related-0;medi...  \n",
       "3  related-1;request-1;offer-0;aid_related-1;medi...  \n",
       "4  related-1;request-0;offer-0;aid_related-0;medi...  "
      ]
     },
     "execution_count": 94,
     "metadata": {},
     "output_type": "execute_result"
    }
   ],
   "source": [
    "msg_cat_df"
   ]
  },
  {
   "cell_type": "code",
   "execution_count": null,
   "metadata": {},
   "outputs": [],
   "source": []
  }
 ],
 "metadata": {
  "interpreter": {
   "hash": "e368b11b1a8d15efe0c225d9394c59cfe2fc4951c6cb9a0955fe398c541aa932"
  },
  "kernelspec": {
   "display_name": "Python 3.7.5",
   "language": "python",
   "name": "python3"
  },
  "language_info": {
   "codemirror_mode": {
    "name": "ipython",
    "version": 3
   },
   "file_extension": ".py",
   "mimetype": "text/x-python",
   "name": "python",
   "nbconvert_exporter": "python",
   "pygments_lexer": "ipython3",
   "version": "3.7.12"
  },
  "orig_nbformat": 4
 },
 "nbformat": 4,
 "nbformat_minor": 2
}
