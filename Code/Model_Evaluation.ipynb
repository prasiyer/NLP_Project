{
 "cells": [
  {
   "cell_type": "code",
   "execution_count": 16,
   "metadata": {},
   "outputs": [],
   "source": [
    "import nltk\n",
    "import re\n",
    "import pandas as pd\n",
    "from nltk.tokenize import word_tokenize\n",
    "from nltk.stem import WordNetLemmatizer\n",
    "from sqlalchemy import create_engine"
   ]
  },
  {
   "cell_type": "code",
   "execution_count": 17,
   "metadata": {},
   "outputs": [],
   "source": [
    "from sklearn.model_selection import train_test_split\n",
    "from sklearn.metrics import classification_report, precision_score\n",
    "import numpy as np\n",
    "from sklearn.ensemble import RandomForestClassifier\n",
    "from sklearn.model_selection import GridSearchCV\n",
    "from sklearn.metrics import accuracy_score, recall_score, f1_score, precision_score\n",
    "import seaborn as sns\n",
    "import matplotlib.pyplot as plt\n",
    "import pickle"
   ]
  },
  {
   "cell_type": "code",
   "execution_count": 18,
   "metadata": {},
   "outputs": [],
   "source": [
    "def tokenize(text):\n",
    "    '''\n",
    "    Create tokens and then lemmatize the tokens. Useful for including in CountVectorizer\n",
    "    Parameters:\n",
    "        text (str): Input text to be tokenized\n",
    "    '''\n",
    "    tokens = word_tokenize(text)\n",
    "    lemmatizer = WordNetLemmatizer()\n",
    "    lemmatized_tokens = []\n",
    "    for tok in tokens:\n",
    "        clean_token = lemmatizer.lemmatize(tok).lower().strip()\n",
    "        lemmatized_tokens.append(clean_token)\n",
    "    return lemmatized_tokens"
   ]
  },
  {
   "cell_type": "code",
   "execution_count": 19,
   "metadata": {},
   "outputs": [],
   "source": [
    "def evaluate_model(trained_model, X_test, y_test, y_pred, column_labels):\n",
    "    test_result_df = pd.DataFrame(y_test, columns = column_labels)\n",
    "    pred_result_df = pd.DataFrame(y_pred, columns = column_labels)\n",
    "    #column = 'related'\n",
    "    #accuracy = accuracy_score(test_result_df['related'], pred_result_df['related'])\n",
    "    trained_model_accuracy = trained_model.score(X_test, y_test)\n",
    "    accuracy_df = pd.DataFrame(data = [], columns = ['Category', 'Accuracy','Precision', 'Recall', 'F1', 'Support'])\n",
    "    i = 0\n",
    "    for column_name in column_labels:\n",
    "        accuracy_score_column = round(accuracy_score(test_result_df[column_name], pred_result_df[column_name]), 2)\n",
    "        precision_score_column = round(precision_score(test_result_df[column_name], pred_result_df[column_name]), 2)\n",
    "        recall_score_column = round(recall_score(test_result_df[column_name], pred_result_df[column_name]), 2)\n",
    "        f1_score_column = round(f1_score(test_result_df[column_name], pred_result_df[column_name]), 2)\n",
    "        #print(column_name, '----', accuracy_score_column)\n",
    "        accuracy_df.loc[i] = [column_name, accuracy_score_column, precision_score_column, recall_score_column, f1_score_column, 0]\n",
    "        i += 1\n",
    "    return accuracy_df, trained_model_accuracy"
   ]
  },
  {
   "cell_type": "code",
   "execution_count": 20,
   "metadata": {},
   "outputs": [],
   "source": [
    "db_engine = create_engine('sqlite:////home/prasannaiyer/Projects/NLP_Project/Data/DisasterResponse.db')\n",
    "msg_df = pd.read_sql_table('Message_Category', db_engine)"
   ]
  },
  {
   "cell_type": "code",
   "execution_count": 21,
   "metadata": {},
   "outputs": [],
   "source": [
    "columnn_labels = msg_df.columns[~msg_df.columns.isin(['id', 'genre', 'message', 'original'])]"
   ]
  },
  {
   "cell_type": "code",
   "execution_count": 22,
   "metadata": {},
   "outputs": [],
   "source": [
    "for column_name in msg_df.columns[~msg_df.columns.isin(['id', 'genre', 'message', 'original'])]:\n",
    "    msg_df[column_name] = msg_df[column_name].astype('int')"
   ]
  },
  {
   "cell_type": "code",
   "execution_count": 23,
   "metadata": {},
   "outputs": [],
   "source": [
    "X = msg_df['message'].values\n",
    "y = msg_df.loc[:, ~msg_df.columns.isin(['id', 'genre', 'message', 'original'])].values\n",
    "X_train, X_test, y_train, y_test = train_test_split(X, y)"
   ]
  },
  {
   "cell_type": "code",
   "execution_count": 24,
   "metadata": {},
   "outputs": [
    {
     "name": "stderr",
     "output_type": "stream",
     "text": [
      "/data2/prasannaiyer/envs/NLP_py335/lib/python3.7/site-packages/sklearn/metrics/_classification.py:1318: UndefinedMetricWarning: Precision is ill-defined and being set to 0.0 due to no predicted samples. Use `zero_division` parameter to control this behavior.\n",
      "  _warn_prf(average, modifier, msg_start, len(result))\n",
      "/data2/prasannaiyer/envs/NLP_py335/lib/python3.7/site-packages/sklearn/metrics/_classification.py:1318: UndefinedMetricWarning: Precision is ill-defined and being set to 0.0 due to no predicted samples. Use `zero_division` parameter to control this behavior.\n",
      "  _warn_prf(average, modifier, msg_start, len(result))\n",
      "/data2/prasannaiyer/envs/NLP_py335/lib/python3.7/site-packages/sklearn/metrics/_classification.py:1318: UndefinedMetricWarning: Recall is ill-defined and being set to 0.0 due to no true samples. Use `zero_division` parameter to control this behavior.\n",
      "  _warn_prf(average, modifier, msg_start, len(result))\n",
      "/data2/prasannaiyer/envs/NLP_py335/lib/python3.7/site-packages/sklearn/metrics/_classification.py:1580: UndefinedMetricWarning: F-score is ill-defined and being set to 0.0 due to no true nor predicted samples. Use `zero_division` parameter to control this behavior.\n",
      "  _warn_prf(average, \"true nor predicted\", \"F-score is\", len(true_sum))\n",
      "/data2/prasannaiyer/envs/NLP_py335/lib/python3.7/site-packages/sklearn/metrics/_classification.py:1318: UndefinedMetricWarning: Precision is ill-defined and being set to 0.0 due to no predicted samples. Use `zero_division` parameter to control this behavior.\n",
      "  _warn_prf(average, modifier, msg_start, len(result))\n",
      "/data2/prasannaiyer/envs/NLP_py335/lib/python3.7/site-packages/sklearn/metrics/_classification.py:1318: UndefinedMetricWarning: Precision is ill-defined and being set to 0.0 due to no predicted samples. Use `zero_division` parameter to control this behavior.\n",
      "  _warn_prf(average, modifier, msg_start, len(result))\n"
     ]
    }
   ],
   "source": [
    "pipeline_trained_model = pickle.load(open('/data2/home/prasannaiyer/Projects/NLP_Project/Code/pipeline_model.sav', 'rb'))\n",
    "pred_pipeline = pipeline_trained_model.predict(X_test)\n",
    "pipeline_model_accuracy_df, pipeline_model_overall_acc = evaluate_model(pipeline_trained_model, X_test, y_test, pred_pipeline, columnn_labels)"
   ]
  },
  {
   "cell_type": "code",
   "execution_count": 25,
   "metadata": {},
   "outputs": [
    {
     "name": "stderr",
     "output_type": "stream",
     "text": [
      "/data2/prasannaiyer/envs/NLP_py335/lib/python3.7/site-packages/sklearn/metrics/_classification.py:1318: UndefinedMetricWarning: Precision is ill-defined and being set to 0.0 due to no predicted samples. Use `zero_division` parameter to control this behavior.\n",
      "  _warn_prf(average, modifier, msg_start, len(result))\n",
      "/data2/prasannaiyer/envs/NLP_py335/lib/python3.7/site-packages/sklearn/metrics/_classification.py:1318: UndefinedMetricWarning: Recall is ill-defined and being set to 0.0 due to no true samples. Use `zero_division` parameter to control this behavior.\n",
      "  _warn_prf(average, modifier, msg_start, len(result))\n",
      "/data2/prasannaiyer/envs/NLP_py335/lib/python3.7/site-packages/sklearn/metrics/_classification.py:1580: UndefinedMetricWarning: F-score is ill-defined and being set to 0.0 due to no true nor predicted samples. Use `zero_division` parameter to control this behavior.\n",
      "  _warn_prf(average, \"true nor predicted\", \"F-score is\", len(true_sum))\n"
     ]
    }
   ],
   "source": [
    "#model_filename = open('/data2/home/prasannaiyer/Projects/NLP_Project/Code/cv_model.sav', 'rb')\n",
    "cv_trained_model = pickle.load(open('/data2/home/prasannaiyer/Projects/NLP_Project/Code/cv_model.sav', 'rb'))\n",
    "pred_cv = cv_trained_model.predict(X_test)\n",
    "cv_model_accuracy_df, cv_model_overall_acc = evaluate_model(cv_trained_model, X_test, y_test, pred_cv, columnn_labels)"
   ]
  },
  {
   "cell_type": "code",
   "execution_count": 33,
   "metadata": {},
   "outputs": [
    {
     "name": "stdout",
     "output_type": "stream",
     "text": [
      "Accuracy: Pipeline = 30.33% and Gridsearch = 80.21%\n"
     ]
    }
   ],
   "source": [
    "print('Accuracy: Pipeline = {:.2f}% and Gridsearch = {:.2f}%'.format(pipeline_model_overall_acc*100, cv_model_overall_acc*100))"
   ]
  },
  {
   "cell_type": "code",
   "execution_count": 26,
   "metadata": {},
   "outputs": [
    {
     "name": "stderr",
     "output_type": "stream",
     "text": [
      "/data2/prasannaiyer/envs/NLP_py335/lib/python3.7/site-packages/seaborn/_decorators.py:43: FutureWarning: Pass the following variables as keyword args: x, y. From version 0.12, the only valid positional argument will be `data`, and passing other arguments without an explicit keyword will result in an error or misinterpretation.\n",
      "  FutureWarning\n"
     ]
    },
    {
     "data": {
      "text/plain": [
       "(array([ 0,  1,  2,  3,  4,  5,  6,  7,  8,  9, 10, 11, 12, 13, 14, 15, 16,\n",
       "        17, 18, 19, 20, 21, 22, 23, 24, 25, 26, 27, 28, 29, 30, 31, 32, 33,\n",
       "        34, 35]),\n",
       " [Text(0, 0, 'related'),\n",
       "  Text(1, 0, 'request'),\n",
       "  Text(2, 0, 'offer'),\n",
       "  Text(3, 0, 'aid_related'),\n",
       "  Text(4, 0, 'medical_help'),\n",
       "  Text(5, 0, 'medical_products'),\n",
       "  Text(6, 0, 'search_and_rescue'),\n",
       "  Text(7, 0, 'security'),\n",
       "  Text(8, 0, 'military'),\n",
       "  Text(9, 0, 'child_alone'),\n",
       "  Text(10, 0, 'water'),\n",
       "  Text(11, 0, 'food'),\n",
       "  Text(12, 0, 'shelter'),\n",
       "  Text(13, 0, 'clothing'),\n",
       "  Text(14, 0, 'money'),\n",
       "  Text(15, 0, 'missing_people'),\n",
       "  Text(16, 0, 'refugees'),\n",
       "  Text(17, 0, 'death'),\n",
       "  Text(18, 0, 'other_aid'),\n",
       "  Text(19, 0, 'infrastructure_related'),\n",
       "  Text(20, 0, 'transport'),\n",
       "  Text(21, 0, 'buildings'),\n",
       "  Text(22, 0, 'electricity'),\n",
       "  Text(23, 0, 'tools'),\n",
       "  Text(24, 0, 'hospitals'),\n",
       "  Text(25, 0, 'shops'),\n",
       "  Text(26, 0, 'aid_centers'),\n",
       "  Text(27, 0, 'other_infrastructure'),\n",
       "  Text(28, 0, 'weather_related'),\n",
       "  Text(29, 0, 'floods'),\n",
       "  Text(30, 0, 'storm'),\n",
       "  Text(31, 0, 'fire'),\n",
       "  Text(32, 0, 'earthquake'),\n",
       "  Text(33, 0, 'cold'),\n",
       "  Text(34, 0, 'other_weather'),\n",
       "  Text(35, 0, 'direct_report')])"
      ]
     },
     "execution_count": 26,
     "metadata": {},
     "output_type": "execute_result"
    },
    {
     "data": {
      "image/png": "[encoded data removed]",
      "text/plain": [
       "<Figure size 1080x432 with 1 Axes>"
      ]
     },
     "metadata": {
      "needs_background": "light"
     },
     "output_type": "display_data"
    }
   ],
   "source": [
    "fig = plt.figure(figsize = (15, 6))\n",
    "ax = sns.barplot(cv_model_accuracy_df['Category'], cv_model_accuracy_df['Accuracy'])\n",
    "ax.set_title('Accuracy by Category')\n",
    "plt.xticks(rotation=45)"
   ]
  },
  {
   "cell_type": "code",
   "execution_count": null,
   "metadata": {},
   "outputs": [],
   "source": []
  }
 ],
 "metadata": {
  "interpreter": {
   "hash": "e368b11b1a8d15efe0c225d9394c59cfe2fc4951c6cb9a0955fe398c541aa932"
  },
  "kernelspec": {
   "display_name": "Python 3.7.12",
   "language": "python",
   "name": "python3"
  },
  "language_info": {
   "codemirror_mode": {
    "name": "ipython",
    "version": 3
   },
   "file_extension": ".py",
   "mimetype": "text/x-python",
   "name": "python",
   "nbconvert_exporter": "python",
   "pygments_lexer": "ipython3",
   "version": "3.7.12"
  },
  "orig_nbformat": 4
 },
 "nbformat": 4,
 "nbformat_minor": 2
}
