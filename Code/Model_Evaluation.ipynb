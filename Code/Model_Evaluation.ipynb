{
 "cells": [
  {
   "cell_type": "markdown",
   "metadata": {},
   "source": [
    "##### Import the required libraries ##"
   ]
  },
  {
   "cell_type": "code",
   "execution_count": 62,
   "metadata": {},
   "outputs": [],
   "source": [
    "import nltk\n",
    "import re\n",
    "import pandas as pd\n",
    "from nltk.tokenize import word_tokenize\n",
    "from nltk.stem import WordNetLemmatizer\n",
    "from sqlalchemy import create_engine"
   ]
  },
  {
   "cell_type": "code",
   "execution_count": 63,
   "metadata": {},
   "outputs": [],
   "source": [
    "from sklearn.model_selection import train_test_split\n",
    "from sklearn.metrics import classification_report, precision_score\n",
    "import numpy as np\n",
    "from sklearn.ensemble import RandomForestClassifier\n",
    "from sklearn.model_selection import GridSearchCV\n",
    "from sklearn.metrics import accuracy_score, recall_score, f1_score, precision_score\n",
    "import seaborn as sns\n",
    "import matplotlib.pyplot as plt\n",
    "import pickle"
   ]
  },
  {
   "cell_type": "markdown",
   "metadata": {},
   "source": [
    "##### Function for creating tokens for text, the docstring in the function shows additional information #####"
   ]
  },
  {
   "cell_type": "code",
   "execution_count": 64,
   "metadata": {},
   "outputs": [],
   "source": [
    "def tokenize(text):\n",
    "    '''\n",
    "    Create tokens and then lemmatize the tokens. Useful for including in CountVectorizer\n",
    "    Parameters:\n",
    "        text (str): Input text to be tokenized\n",
    "    '''\n",
    "    tokens = word_tokenize(text)\n",
    "    lemmatizer = WordNetLemmatizer()\n",
    "    lemmatized_tokens = []\n",
    "    for tok in tokens:\n",
    "        clean_token = lemmatizer.lemmatize(tok).lower().strip()\n",
    "        lemmatized_tokens.append(clean_token)\n",
    "    return lemmatized_tokens"
   ]
  },
  {
   "cell_type": "markdown",
   "metadata": {},
   "source": [
    "##### evaluate_model: Function to compute the performance of the prediction model - accuracy, precision and recall"
   ]
  },
  {
   "cell_type": "code",
   "execution_count": 65,
   "metadata": {},
   "outputs": [],
   "source": [
    "def evaluate_model(trained_model, X_test, y_test, y_pred, column_labels, category_subset):\n",
    "    '''\n",
    "    Calculate accuracy, precision, recall and f1 score for the input model\n",
    "    Parameters:\n",
    "        trained_model: Model to be used for prediction on the test dataset\n",
    "        X_test: Input for the prediction\n",
    "        y_test: Ground truth or the correct prediction\n",
    "        y_pred: Predicted results\n",
    "        column_labels: Labels for the predicted variables\n",
    "    Returns:\n",
    "        trained_model_accuracy: Overall accuracy of the trained model\n",
    "        accuracy_df: Dataframe containing the performance metrics on the test set\n",
    "    '''\n",
    "    test_result_df = pd.DataFrame(y_test, columns = column_labels)\n",
    "    pred_result_df = pd.DataFrame(y_pred, columns = column_labels)\n",
    "    #column = 'related'\n",
    "    #accuracy = accuracy_score(test_result_df['related'], pred_result_df['related'])\n",
    "    trained_model_accuracy = trained_model.score(X_test, y_test)\n",
    "    accuracy_df = pd.DataFrame(data = [], columns = ['Category', 'Accuracy','Precision', 'Recall', 'F1', 'Support', 'Prominent_Category'])\n",
    "    i = 0\n",
    "    for column_name in column_labels:\n",
    "        accuracy_score_column = round(accuracy_score(test_result_df[column_name], pred_result_df[column_name]), 2)\n",
    "        precision_score_column = round(precision_score(test_result_df[column_name], pred_result_df[column_name]), 2)\n",
    "        recall_score_column = round(recall_score(test_result_df[column_name], pred_result_df[column_name]), 2)\n",
    "        f1_score_column = round(f1_score(test_result_df[column_name], pred_result_df[column_name]), 2)\n",
    "        #print(column_name, '----', accuracy_score_column)\n",
    "        if column_name in category_subset:\n",
    "            balanced = True\n",
    "        else:\n",
    "            balanced = False\n",
    "        accuracy_df.loc[i] = [column_name, accuracy_score_column, precision_score_column, recall_score_column, f1_score_column, 0, balanced]\n",
    "        i += 1\n",
    "    return accuracy_df, trained_model_accuracy, test_result_df, pred_result_df"
   ]
  },
  {
   "cell_type": "markdown",
   "metadata": {},
   "source": [
    "##### Read the message/category dataset from the Sqlite database #####\n",
    "##### Check for data imbalance #####\n",
    "##### Set output features to the right format #####\n",
    "##### Split the dataset into training and test set #####"
   ]
  },
  {
   "cell_type": "code",
   "execution_count": 66,
   "metadata": {},
   "outputs": [],
   "source": [
    "db_engine = create_engine('sqlite:////home/prasannaiyer/Projects/NLP_Project/Data/DisasterResponse.db')\n",
    "msg_df = pd.read_sql_table('Message_Category', db_engine)"
   ]
  },
  {
   "cell_type": "markdown",
   "metadata": {},
   "source": [
    "##### Compute the proportion of each category in the overall dataset #####\n",
    "##### This will show the categories that have low representation (less than 8%) in the dataset #####"
   ]
  },
  {
   "cell_type": "code",
   "execution_count": 67,
   "metadata": {},
   "outputs": [],
   "source": [
    "msg_df_cat_proportion = pd.DataFrame((((msg_df[msg_df.columns[~msg_df.columns.isin(['id', 'genre', 'message', 'original'])]].\\\n",
    "    sum())/(msg_df[msg_df.columns[~msg_df.columns.isin(['id', 'genre', 'message', 'original'])]].\\\n",
    "    count())).sort_values(ascending = False)*100))"
   ]
  },
  {
   "cell_type": "code",
   "execution_count": 68,
   "metadata": {},
   "outputs": [],
   "source": [
    "msg_df_cat_proportion.columns = ['Proportion']"
   ]
  },
  {
   "cell_type": "code",
   "execution_count": 69,
   "metadata": {},
   "outputs": [],
   "source": [
    "prominent_categories = msg_df_cat_proportion.loc[msg_df_cat_proportion['Proportion']>8]"
   ]
  },
  {
   "cell_type": "code",
   "execution_count": 70,
   "metadata": {},
   "outputs": [],
   "source": [
    "category_count_df = pd.DataFrame(msg_df[msg_df.columns[~msg_df.columns.isin(['id', 'genre', 'message', 'original'])]].sum().\\\n",
    "    sort_values(ascending = False).reset_index())\n",
    "category_count_df.columns = ['Category', 'Count']"
   ]
  },
  {
   "cell_type": "markdown",
   "metadata": {},
   "source": [
    "#### Change the format of the output features to Int ####"
   ]
  },
  {
   "cell_type": "code",
   "execution_count": 71,
   "metadata": {},
   "outputs": [],
   "source": [
    "columnn_labels = msg_df.columns[~msg_df.columns.isin(['id', 'genre', 'message', 'original'])]"
   ]
  },
  {
   "cell_type": "code",
   "execution_count": 72,
   "metadata": {},
   "outputs": [],
   "source": [
    "for column_name in msg_df.columns[~msg_df.columns.isin(['id', 'genre', 'message', 'original'])]:\n",
    "    msg_df[column_name] = msg_df[column_name].astype('int')"
   ]
  },
  {
   "cell_type": "markdown",
   "metadata": {},
   "source": [
    "##### Split the dataset into training and test set #####"
   ]
  },
  {
   "cell_type": "code",
   "execution_count": 73,
   "metadata": {},
   "outputs": [],
   "source": [
    "X = msg_df['message'].values\n",
    "y = msg_df.loc[:, ~msg_df.columns.isin(['id', 'genre', 'message', 'original'])].values\n",
    "X_train, X_test, y_train, y_test = train_test_split(X, y)"
   ]
  },
  {
   "cell_type": "markdown",
   "metadata": {},
   "source": [
    "##### Load the 2 trained models from the pickle files #####\n",
    "##### Predict the output for the test set #####"
   ]
  },
  {
   "cell_type": "code",
   "execution_count": 74,
   "metadata": {},
   "outputs": [],
   "source": [
    "pipeline_trained_model = pickle.load(open('/data2/home/prasannaiyer/Projects/NLP_Project/Code/pipeline_model.sav', 'rb'))\n",
    "#pred_pipeline = pipeline_trained_model.predict(X_test)"
   ]
  },
  {
   "cell_type": "code",
   "execution_count": 76,
   "metadata": {},
   "outputs": [],
   "source": [
    "#model_filename = open('/data2/home/prasannaiyer/Projects/NLP_Project/Code/cv_model.sav', 'rb')\n",
    "cv_trained_model = pickle.load(open('/data2/home/prasannaiyer/Projects/NLP_Project/Code/cv_model.sav', 'rb'))\n",
    "pred_cv = cv_trained_model.predict(X_test)"
   ]
  },
  {
   "cell_type": "markdown",
   "metadata": {},
   "source": [
    "##### Evaluate the model performance -- accuracy, precision & recall #####"
   ]
  },
  {
   "cell_type": "code",
   "execution_count": 86,
   "metadata": {},
   "outputs": [
    {
     "name": "stderr",
     "output_type": "stream",
     "text": [
      "/data2/prasannaiyer/envs/NLP_py335/lib/python3.7/site-packages/sklearn/metrics/_classification.py:1318: UndefinedMetricWarning: Precision is ill-defined and being set to 0.0 due to no predicted samples. Use `zero_division` parameter to control this behavior.\n",
      "  _warn_prf(average, modifier, msg_start, len(result))\n",
      "/data2/prasannaiyer/envs/NLP_py335/lib/python3.7/site-packages/sklearn/metrics/_classification.py:1318: UndefinedMetricWarning: Recall is ill-defined and being set to 0.0 due to no true samples. Use `zero_division` parameter to control this behavior.\n",
      "  _warn_prf(average, modifier, msg_start, len(result))\n",
      "/data2/prasannaiyer/envs/NLP_py335/lib/python3.7/site-packages/sklearn/metrics/_classification.py:1580: UndefinedMetricWarning: F-score is ill-defined and being set to 0.0 due to no true nor predicted samples. Use `zero_division` parameter to control this behavior.\n",
      "  _warn_prf(average, \"true nor predicted\", \"F-score is\", len(true_sum))\n"
     ]
    }
   ],
   "source": [
    "cv_model_accuracy_df, cv_model_overall_acc, cv_test_result_df, cv_pred_result_df = \\\n",
    "    evaluate_model(cv_trained_model, X_test, y_test, pred_cv, columnn_labels, prominent_categories.index)"
   ]
  },
  {
   "cell_type": "code",
   "execution_count": 87,
   "metadata": {},
   "outputs": [
    {
     "name": "stderr",
     "output_type": "stream",
     "text": [
      "/data2/prasannaiyer/envs/NLP_py335/lib/python3.7/site-packages/sklearn/metrics/_classification.py:1318: UndefinedMetricWarning: Precision is ill-defined and being set to 0.0 due to no predicted samples. Use `zero_division` parameter to control this behavior.\n",
      "  _warn_prf(average, modifier, msg_start, len(result))\n",
      "/data2/prasannaiyer/envs/NLP_py335/lib/python3.7/site-packages/sklearn/metrics/_classification.py:1318: UndefinedMetricWarning: Recall is ill-defined and being set to 0.0 due to no true samples. Use `zero_division` parameter to control this behavior.\n",
      "  _warn_prf(average, modifier, msg_start, len(result))\n",
      "/data2/prasannaiyer/envs/NLP_py335/lib/python3.7/site-packages/sklearn/metrics/_classification.py:1580: UndefinedMetricWarning: F-score is ill-defined and being set to 0.0 due to no true nor predicted samples. Use `zero_division` parameter to control this behavior.\n",
      "  _warn_prf(average, \"true nor predicted\", \"F-score is\", len(true_sum))\n"
     ]
    }
   ],
   "source": [
    "plain_model_accuracy_df, plain_model_overall_acc, plain_test_result_df, plain_pred_result_df = \\\n",
    "    evaluate_model(pipeline_trained_model, X_test, y_test, pred_cv, columnn_labels, prominent_categories.index)"
   ]
  },
  {
   "cell_type": "markdown",
   "metadata": {},
   "source": [
    "##### Report the performance metrics of the prediction models"
   ]
  },
  {
   "cell_type": "code",
   "execution_count": 88,
   "metadata": {},
   "outputs": [],
   "source": [
    "cv_model_accuracy_df = cv_model_accuracy_df.merge(category_count_df, left_on = 'Category', right_on = 'Category')"
   ]
  },
  {
   "cell_type": "code",
   "execution_count": 85,
   "metadata": {},
   "outputs": [
    {
     "data": {
      "text/plain": [
       "Index(['related', 'aid_related', 'weather_related', 'direct_report', 'request',\n",
       "       'other_aid', 'food', 'earthquake', 'storm', 'shelter', 'floods'],\n",
       "      dtype='object')"
      ]
     },
     "execution_count": 85,
     "metadata": {},
     "output_type": "execute_result"
    }
   ],
   "source": [
    "prominent_categories.index"
   ]
  },
  {
   "cell_type": "code",
   "execution_count": 89,
   "metadata": {},
   "outputs": [
    {
     "data": {
      "text/html": [
       "<div>\n",
       "<style scoped>\n",
       "    .dataframe tbody tr th:only-of-type {\n",
       "        vertical-align: middle;\n",
       "    }\n",
       "\n",
       "    .dataframe tbody tr th {\n",
       "        vertical-align: top;\n",
       "    }\n",
       "\n",
       "    .dataframe thead th {\n",
       "        text-align: right;\n",
       "    }\n",
       "</style>\n",
       "<table border=\"1\" class=\"dataframe\">\n",
       "  <thead>\n",
       "    <tr style=\"text-align: right;\">\n",
       "      <th></th>\n",
       "      <th>Category</th>\n",
       "      <th>Accuracy</th>\n",
       "      <th>Precision</th>\n",
       "      <th>Recall</th>\n",
       "      <th>F1</th>\n",
       "      <th>Support</th>\n",
       "      <th>Prominent_Category</th>\n",
       "      <th>Count</th>\n",
       "    </tr>\n",
       "  </thead>\n",
       "  <tbody>\n",
       "    <tr>\n",
       "      <th>0</th>\n",
       "      <td>related</td>\n",
       "      <td>0.95</td>\n",
       "      <td>0.94</td>\n",
       "      <td>0.99</td>\n",
       "      <td>0.97</td>\n",
       "      <td>0</td>\n",
       "      <td>True</td>\n",
       "      <td>20093</td>\n",
       "    </tr>\n",
       "    <tr>\n",
       "      <th>3</th>\n",
       "      <td>aid_related</td>\n",
       "      <td>0.94</td>\n",
       "      <td>0.96</td>\n",
       "      <td>0.90</td>\n",
       "      <td>0.93</td>\n",
       "      <td>0</td>\n",
       "      <td>True</td>\n",
       "      <td>10860</td>\n",
       "    </tr>\n",
       "    <tr>\n",
       "      <th>28</th>\n",
       "      <td>weather_related</td>\n",
       "      <td>0.97</td>\n",
       "      <td>0.97</td>\n",
       "      <td>0.90</td>\n",
       "      <td>0.94</td>\n",
       "      <td>0</td>\n",
       "      <td>True</td>\n",
       "      <td>7297</td>\n",
       "    </tr>\n",
       "    <tr>\n",
       "      <th>1</th>\n",
       "      <td>request</td>\n",
       "      <td>0.97</td>\n",
       "      <td>0.99</td>\n",
       "      <td>0.86</td>\n",
       "      <td>0.92</td>\n",
       "      <td>0</td>\n",
       "      <td>True</td>\n",
       "      <td>4474</td>\n",
       "    </tr>\n",
       "    <tr>\n",
       "      <th>18</th>\n",
       "      <td>other_aid</td>\n",
       "      <td>0.96</td>\n",
       "      <td>1.00</td>\n",
       "      <td>0.73</td>\n",
       "      <td>0.84</td>\n",
       "      <td>0</td>\n",
       "      <td>True</td>\n",
       "      <td>3446</td>\n",
       "    </tr>\n",
       "    <tr>\n",
       "      <th>11</th>\n",
       "      <td>food</td>\n",
       "      <td>0.98</td>\n",
       "      <td>0.99</td>\n",
       "      <td>0.84</td>\n",
       "      <td>0.91</td>\n",
       "      <td>0</td>\n",
       "      <td>True</td>\n",
       "      <td>2923</td>\n",
       "    </tr>\n",
       "    <tr>\n",
       "      <th>32</th>\n",
       "      <td>earthquake</td>\n",
       "      <td>0.99</td>\n",
       "      <td>0.98</td>\n",
       "      <td>0.92</td>\n",
       "      <td>0.95</td>\n",
       "      <td>0</td>\n",
       "      <td>True</td>\n",
       "      <td>2455</td>\n",
       "    </tr>\n",
       "    <tr>\n",
       "      <th>30</th>\n",
       "      <td>storm</td>\n",
       "      <td>0.98</td>\n",
       "      <td>0.96</td>\n",
       "      <td>0.86</td>\n",
       "      <td>0.91</td>\n",
       "      <td>0</td>\n",
       "      <td>True</td>\n",
       "      <td>2443</td>\n",
       "    </tr>\n",
       "    <tr>\n",
       "      <th>12</th>\n",
       "      <td>shelter</td>\n",
       "      <td>0.98</td>\n",
       "      <td>0.98</td>\n",
       "      <td>0.84</td>\n",
       "      <td>0.90</td>\n",
       "      <td>0</td>\n",
       "      <td>True</td>\n",
       "      <td>2314</td>\n",
       "    </tr>\n",
       "    <tr>\n",
       "      <th>29</th>\n",
       "      <td>floods</td>\n",
       "      <td>0.99</td>\n",
       "      <td>0.99</td>\n",
       "      <td>0.84</td>\n",
       "      <td>0.91</td>\n",
       "      <td>0</td>\n",
       "      <td>True</td>\n",
       "      <td>2155</td>\n",
       "    </tr>\n",
       "    <tr>\n",
       "      <th>4</th>\n",
       "      <td>medical_help</td>\n",
       "      <td>0.98</td>\n",
       "      <td>1.00</td>\n",
       "      <td>0.77</td>\n",
       "      <td>0.87</td>\n",
       "      <td>0</td>\n",
       "      <td>False</td>\n",
       "      <td>2084</td>\n",
       "    </tr>\n",
       "    <tr>\n",
       "      <th>19</th>\n",
       "      <td>infrastructure_related</td>\n",
       "      <td>0.98</td>\n",
       "      <td>1.00</td>\n",
       "      <td>0.75</td>\n",
       "      <td>0.86</td>\n",
       "      <td>0</td>\n",
       "      <td>False</td>\n",
       "      <td>1705</td>\n",
       "    </tr>\n",
       "    <tr>\n",
       "      <th>10</th>\n",
       "      <td>water</td>\n",
       "      <td>0.99</td>\n",
       "      <td>1.00</td>\n",
       "      <td>0.82</td>\n",
       "      <td>0.90</td>\n",
       "      <td>0</td>\n",
       "      <td>False</td>\n",
       "      <td>1672</td>\n",
       "    </tr>\n",
       "    <tr>\n",
       "      <th>34</th>\n",
       "      <td>other_weather</td>\n",
       "      <td>0.99</td>\n",
       "      <td>1.00</td>\n",
       "      <td>0.75</td>\n",
       "      <td>0.86</td>\n",
       "      <td>0</td>\n",
       "      <td>False</td>\n",
       "      <td>1376</td>\n",
       "    </tr>\n",
       "    <tr>\n",
       "      <th>21</th>\n",
       "      <td>buildings</td>\n",
       "      <td>0.99</td>\n",
       "      <td>1.00</td>\n",
       "      <td>0.76</td>\n",
       "      <td>0.86</td>\n",
       "      <td>0</td>\n",
       "      <td>False</td>\n",
       "      <td>1333</td>\n",
       "    </tr>\n",
       "    <tr>\n",
       "      <th>5</th>\n",
       "      <td>medical_products</td>\n",
       "      <td>0.99</td>\n",
       "      <td>0.99</td>\n",
       "      <td>0.76</td>\n",
       "      <td>0.86</td>\n",
       "      <td>0</td>\n",
       "      <td>False</td>\n",
       "      <td>1313</td>\n",
       "    </tr>\n",
       "    <tr>\n",
       "      <th>20</th>\n",
       "      <td>transport</td>\n",
       "      <td>0.99</td>\n",
       "      <td>0.98</td>\n",
       "      <td>0.78</td>\n",
       "      <td>0.87</td>\n",
       "      <td>0</td>\n",
       "      <td>False</td>\n",
       "      <td>1201</td>\n",
       "    </tr>\n",
       "    <tr>\n",
       "      <th>17</th>\n",
       "      <td>death</td>\n",
       "      <td>0.99</td>\n",
       "      <td>0.99</td>\n",
       "      <td>0.81</td>\n",
       "      <td>0.89</td>\n",
       "      <td>0</td>\n",
       "      <td>False</td>\n",
       "      <td>1194</td>\n",
       "    </tr>\n",
       "    <tr>\n",
       "      <th>27</th>\n",
       "      <td>other_infrastructure</td>\n",
       "      <td>0.99</td>\n",
       "      <td>1.00</td>\n",
       "      <td>0.77</td>\n",
       "      <td>0.87</td>\n",
       "      <td>0</td>\n",
       "      <td>False</td>\n",
       "      <td>1151</td>\n",
       "    </tr>\n",
       "    <tr>\n",
       "      <th>16</th>\n",
       "      <td>refugees</td>\n",
       "      <td>0.99</td>\n",
       "      <td>1.00</td>\n",
       "      <td>0.78</td>\n",
       "      <td>0.88</td>\n",
       "      <td>0</td>\n",
       "      <td>False</td>\n",
       "      <td>875</td>\n",
       "    </tr>\n",
       "    <tr>\n",
       "      <th>8</th>\n",
       "      <td>military</td>\n",
       "      <td>0.99</td>\n",
       "      <td>1.00</td>\n",
       "      <td>0.74</td>\n",
       "      <td>0.85</td>\n",
       "      <td>0</td>\n",
       "      <td>False</td>\n",
       "      <td>860</td>\n",
       "    </tr>\n",
       "    <tr>\n",
       "      <th>6</th>\n",
       "      <td>search_and_rescue</td>\n",
       "      <td>0.99</td>\n",
       "      <td>1.00</td>\n",
       "      <td>0.79</td>\n",
       "      <td>0.88</td>\n",
       "      <td>0</td>\n",
       "      <td>False</td>\n",
       "      <td>724</td>\n",
       "    </tr>\n",
       "    <tr>\n",
       "      <th>14</th>\n",
       "      <td>money</td>\n",
       "      <td>0.99</td>\n",
       "      <td>0.98</td>\n",
       "      <td>0.69</td>\n",
       "      <td>0.81</td>\n",
       "      <td>0</td>\n",
       "      <td>False</td>\n",
       "      <td>604</td>\n",
       "    </tr>\n",
       "    <tr>\n",
       "      <th>22</th>\n",
       "      <td>electricity</td>\n",
       "      <td>1.00</td>\n",
       "      <td>1.00</td>\n",
       "      <td>0.76</td>\n",
       "      <td>0.86</td>\n",
       "      <td>0</td>\n",
       "      <td>False</td>\n",
       "      <td>532</td>\n",
       "    </tr>\n",
       "    <tr>\n",
       "      <th>33</th>\n",
       "      <td>cold</td>\n",
       "      <td>1.00</td>\n",
       "      <td>0.98</td>\n",
       "      <td>0.83</td>\n",
       "      <td>0.90</td>\n",
       "      <td>0</td>\n",
       "      <td>False</td>\n",
       "      <td>530</td>\n",
       "    </tr>\n",
       "    <tr>\n",
       "      <th>7</th>\n",
       "      <td>security</td>\n",
       "      <td>0.99</td>\n",
       "      <td>0.99</td>\n",
       "      <td>0.73</td>\n",
       "      <td>0.84</td>\n",
       "      <td>0</td>\n",
       "      <td>False</td>\n",
       "      <td>471</td>\n",
       "    </tr>\n",
       "    <tr>\n",
       "      <th>13</th>\n",
       "      <td>clothing</td>\n",
       "      <td>1.00</td>\n",
       "      <td>1.00</td>\n",
       "      <td>0.75</td>\n",
       "      <td>0.86</td>\n",
       "      <td>0</td>\n",
       "      <td>False</td>\n",
       "      <td>405</td>\n",
       "    </tr>\n",
       "    <tr>\n",
       "      <th>26</th>\n",
       "      <td>aid_centers</td>\n",
       "      <td>1.00</td>\n",
       "      <td>1.00</td>\n",
       "      <td>0.76</td>\n",
       "      <td>0.86</td>\n",
       "      <td>0</td>\n",
       "      <td>False</td>\n",
       "      <td>309</td>\n",
       "    </tr>\n",
       "    <tr>\n",
       "      <th>15</th>\n",
       "      <td>missing_people</td>\n",
       "      <td>1.00</td>\n",
       "      <td>1.00</td>\n",
       "      <td>0.70</td>\n",
       "      <td>0.82</td>\n",
       "      <td>0</td>\n",
       "      <td>False</td>\n",
       "      <td>298</td>\n",
       "    </tr>\n",
       "    <tr>\n",
       "      <th>24</th>\n",
       "      <td>hospitals</td>\n",
       "      <td>1.00</td>\n",
       "      <td>1.00</td>\n",
       "      <td>0.68</td>\n",
       "      <td>0.81</td>\n",
       "      <td>0</td>\n",
       "      <td>False</td>\n",
       "      <td>283</td>\n",
       "    </tr>\n",
       "    <tr>\n",
       "      <th>31</th>\n",
       "      <td>fire</td>\n",
       "      <td>1.00</td>\n",
       "      <td>1.00</td>\n",
       "      <td>0.72</td>\n",
       "      <td>0.84</td>\n",
       "      <td>0</td>\n",
       "      <td>False</td>\n",
       "      <td>282</td>\n",
       "    </tr>\n",
       "    <tr>\n",
       "      <th>23</th>\n",
       "      <td>tools</td>\n",
       "      <td>1.00</td>\n",
       "      <td>1.00</td>\n",
       "      <td>0.77</td>\n",
       "      <td>0.87</td>\n",
       "      <td>0</td>\n",
       "      <td>False</td>\n",
       "      <td>159</td>\n",
       "    </tr>\n",
       "    <tr>\n",
       "      <th>25</th>\n",
       "      <td>shops</td>\n",
       "      <td>1.00</td>\n",
       "      <td>1.00</td>\n",
       "      <td>0.71</td>\n",
       "      <td>0.83</td>\n",
       "      <td>0</td>\n",
       "      <td>False</td>\n",
       "      <td>120</td>\n",
       "    </tr>\n",
       "    <tr>\n",
       "      <th>2</th>\n",
       "      <td>offer</td>\n",
       "      <td>1.00</td>\n",
       "      <td>1.00</td>\n",
       "      <td>0.71</td>\n",
       "      <td>0.83</td>\n",
       "      <td>0</td>\n",
       "      <td>False</td>\n",
       "      <td>118</td>\n",
       "    </tr>\n",
       "    <tr>\n",
       "      <th>9</th>\n",
       "      <td>child_alone</td>\n",
       "      <td>1.00</td>\n",
       "      <td>0.00</td>\n",
       "      <td>0.00</td>\n",
       "      <td>0.00</td>\n",
       "      <td>0</td>\n",
       "      <td>False</td>\n",
       "      <td>0</td>\n",
       "    </tr>\n",
       "  </tbody>\n",
       "</table>\n",
       "</div>"
      ],
      "text/plain": [
       "                  Category  Accuracy  Precision  Recall    F1 Support  \\\n",
       "0                  related      0.95       0.94    0.99  0.97       0   \n",
       "3              aid_related      0.94       0.96    0.90  0.93       0   \n",
       "28         weather_related      0.97       0.97    0.90  0.94       0   \n",
       "1                  request      0.97       0.99    0.86  0.92       0   \n",
       "18               other_aid      0.96       1.00    0.73  0.84       0   \n",
       "11                    food      0.98       0.99    0.84  0.91       0   \n",
       "32              earthquake      0.99       0.98    0.92  0.95       0   \n",
       "30                   storm      0.98       0.96    0.86  0.91       0   \n",
       "12                 shelter      0.98       0.98    0.84  0.90       0   \n",
       "29                  floods      0.99       0.99    0.84  0.91       0   \n",
       "4             medical_help      0.98       1.00    0.77  0.87       0   \n",
       "19  infrastructure_related      0.98       1.00    0.75  0.86       0   \n",
       "10                   water      0.99       1.00    0.82  0.90       0   \n",
       "34           other_weather      0.99       1.00    0.75  0.86       0   \n",
       "21               buildings      0.99       1.00    0.76  0.86       0   \n",
       "5         medical_products      0.99       0.99    0.76  0.86       0   \n",
       "20               transport      0.99       0.98    0.78  0.87       0   \n",
       "17                   death      0.99       0.99    0.81  0.89       0   \n",
       "27    other_infrastructure      0.99       1.00    0.77  0.87       0   \n",
       "16                refugees      0.99       1.00    0.78  0.88       0   \n",
       "8                 military      0.99       1.00    0.74  0.85       0   \n",
       "6        search_and_rescue      0.99       1.00    0.79  0.88       0   \n",
       "14                   money      0.99       0.98    0.69  0.81       0   \n",
       "22             electricity      1.00       1.00    0.76  0.86       0   \n",
       "33                    cold      1.00       0.98    0.83  0.90       0   \n",
       "7                 security      0.99       0.99    0.73  0.84       0   \n",
       "13                clothing      1.00       1.00    0.75  0.86       0   \n",
       "26             aid_centers      1.00       1.00    0.76  0.86       0   \n",
       "15          missing_people      1.00       1.00    0.70  0.82       0   \n",
       "24               hospitals      1.00       1.00    0.68  0.81       0   \n",
       "31                    fire      1.00       1.00    0.72  0.84       0   \n",
       "23                   tools      1.00       1.00    0.77  0.87       0   \n",
       "25                   shops      1.00       1.00    0.71  0.83       0   \n",
       "2                    offer      1.00       1.00    0.71  0.83       0   \n",
       "9              child_alone      1.00       0.00    0.00  0.00       0   \n",
       "\n",
       "   Prominent_Category  Count  \n",
       "0                True  20093  \n",
       "3                True  10860  \n",
       "28               True   7297  \n",
       "1                True   4474  \n",
       "18               True   3446  \n",
       "11               True   2923  \n",
       "32               True   2455  \n",
       "30               True   2443  \n",
       "12               True   2314  \n",
       "29               True   2155  \n",
       "4               False   2084  \n",
       "19              False   1705  \n",
       "10              False   1672  \n",
       "34              False   1376  \n",
       "21              False   1333  \n",
       "5               False   1313  \n",
       "20              False   1201  \n",
       "17              False   1194  \n",
       "27              False   1151  \n",
       "16              False    875  \n",
       "8               False    860  \n",
       "6               False    724  \n",
       "14              False    604  \n",
       "22              False    532  \n",
       "33              False    530  \n",
       "7               False    471  \n",
       "13              False    405  \n",
       "26              False    309  \n",
       "15              False    298  \n",
       "24              False    283  \n",
       "31              False    282  \n",
       "23              False    159  \n",
       "25              False    120  \n",
       "2               False    118  \n",
       "9               False      0  "
      ]
     },
     "execution_count": 89,
     "metadata": {},
     "output_type": "execute_result"
    }
   ],
   "source": [
    "cv_model_accuracy_df.head(35).sort_values(by = ['Prominent_Category', 'Count'], ascending = False)"
   ]
  },
  {
   "cell_type": "code",
   "execution_count": 111,
   "metadata": {},
   "outputs": [
    {
     "data": {
      "text/html": [
       "<style type=\"text/css\">\n",
       "</style>\n",
       "<table id=\"T_a6446_\">\n",
       "  <thead>\n",
       "    <tr>\n",
       "      <th class=\"blank level0\" >&nbsp;</th>\n",
       "      <th class=\"col_heading level0 col0\" >Accuracy</th>\n",
       "      <th class=\"col_heading level0 col1\" >Precision</th>\n",
       "      <th class=\"col_heading level0 col2\" >Recall</th>\n",
       "      <th class=\"col_heading level0 col3\" >F1</th>\n",
       "    </tr>\n",
       "    <tr>\n",
       "      <th class=\"index_name level0\" >Prominent_Category</th>\n",
       "      <th class=\"blank col0\" >&nbsp;</th>\n",
       "      <th class=\"blank col1\" >&nbsp;</th>\n",
       "      <th class=\"blank col2\" >&nbsp;</th>\n",
       "      <th class=\"blank col3\" >&nbsp;</th>\n",
       "    </tr>\n",
       "  </thead>\n",
       "  <tbody>\n",
       "    <tr>\n",
       "      <th id=\"T_a6446_level0_row0\" class=\"row_heading level0 row0\" >False</th>\n",
       "      <td id=\"T_a6446_row0_col0\" class=\"data row0 col0\" >0.99</td>\n",
       "      <td id=\"T_a6446_row0_col1\" class=\"data row0 col1\" >0.96</td>\n",
       "      <td id=\"T_a6446_row0_col2\" class=\"data row0 col2\" >0.72</td>\n",
       "      <td id=\"T_a6446_row0_col3\" class=\"data row0 col3\" >0.82</td>\n",
       "    </tr>\n",
       "    <tr>\n",
       "      <th id=\"T_a6446_level0_row1\" class=\"row_heading level0 row1\" >True</th>\n",
       "      <td id=\"T_a6446_row1_col0\" class=\"data row1 col0\" >0.97</td>\n",
       "      <td id=\"T_a6446_row1_col1\" class=\"data row1 col1\" >0.98</td>\n",
       "      <td id=\"T_a6446_row1_col2\" class=\"data row1 col2\" >0.87</td>\n",
       "      <td id=\"T_a6446_row1_col3\" class=\"data row1 col3\" >0.92</td>\n",
       "    </tr>\n",
       "  </tbody>\n",
       "</table>\n"
      ],
      "text/plain": [
       "<pandas.io.formats.style.Styler at 0x7ff330060310>"
      ]
     },
     "execution_count": 111,
     "metadata": {},
     "output_type": "execute_result"
    }
   ],
   "source": [
    "cv_model_accuracy_df.groupby(by = ['Prominent_Category'])[['Accuracy', 'Precision','Recall', 'F1']].mean().style.format(precision = 2, thousands = ',')"
   ]
  },
  {
   "cell_type": "code",
   "execution_count": 114,
   "metadata": {},
   "outputs": [],
   "source": [
    "cv_model_accuracy_prominent_cat = cv_model_accuracy_df.groupby(by = ['Prominent_Category'])[['Accuracy']].mean()['Accuracy'].loc[True]\n",
    "cv_model_accuracy_other_cat = cv_model_accuracy_df.groupby(by = ['Prominent_Category'])[['Accuracy']].mean()['Accuracy'].loc[False]\n",
    "cv_model_precision_prominent_cat = cv_model_accuracy_df.groupby(by = ['Prominent_Category'])[['Precision']].mean()['Precision'].loc[True]\n",
    "cv_model_precision_other_cat = cv_model_accuracy_df.groupby(by = ['Prominent_Category'])[['Precision']].mean()['Precision'].loc[False]\n",
    "cv_model_recall_prominent_cat = cv_model_accuracy_df.groupby(by = ['Prominent_Category'])[['Recall']].mean()['Recall'].loc[True]\n",
    "cv_model_recall_other_cat = cv_model_accuracy_df.groupby(by = ['Prominent_Category'])[['Recall']].mean()['Recall'].loc[False]\n",
    "cv_model_F1_prominent_cat = cv_model_accuracy_df.groupby(by = ['Prominent_Category'])[['F1']].mean()['F1'].loc[True]\n",
    "cv_model_F1_other_cat = cv_model_accuracy_df.groupby(by = ['Prominent_Category'])[['F1']].mean()['F1'].loc[False]"
   ]
  },
  {
   "cell_type": "code",
   "execution_count": 115,
   "metadata": {},
   "outputs": [
    {
     "name": "stdout",
     "output_type": "stream",
     "text": [
      "Gridsearch Accuracy: Prominent Categories = 97.09% and Other Categories = 99.36%\n",
      "Gridsearch Precision: Prominent Categories = 97.64% and Other Categories = 95.64%\n",
      "Gridsearch Recall: Prominent Categories = 86.55% and Other Categories = 72.36%\n",
      "Gridsearch F1: Prominent Categories = 91.73% and Other Categories = 82.32%\n"
     ]
    }
   ],
   "source": [
    "print('Gridsearch Accuracy: Prominent Categories = {:.2f}% and Other Categories = {:.2f}%'.format(cv_model_accuracy_prominent_cat*100, cv_model_accuracy_other_cat*100))\n",
    "print('Gridsearch Precision: Prominent Categories = {:.2f}% and Other Categories = {:.2f}%'.format(cv_model_precision_prominent_cat*100, cv_model_precision_other_cat*100))\n",
    "print('Gridsearch Recall: Prominent Categories = {:.2f}% and Other Categories = {:.2f}%'.format(cv_model_recall_prominent_cat*100, cv_model_recall_other_cat*100))\n",
    "print('Gridsearch F1: Prominent Categories = {:.2f}% and Other Categories = {:.2f}%'.format(cv_model_F1_prominent_cat*100, cv_model_F1_other_cat*100))"
   ]
  },
  {
   "cell_type": "code",
   "execution_count": 91,
   "metadata": {},
   "outputs": [
    {
     "name": "stdout",
     "output_type": "stream",
     "text": [
      "Accuracy: Pipeline = 30.53% and Gridsearch = 80.90%\n"
     ]
    }
   ],
   "source": [
    "print('Accuracy: Pipeline = {:.2f}% and Gridsearch = {:.2f}%'.format(plain_model_overall_acc*100, cv_model_overall_acc*100))"
   ]
  },
  {
   "cell_type": "code",
   "execution_count": 117,
   "metadata": {},
   "outputs": [
    {
     "name": "stderr",
     "output_type": "stream",
     "text": [
      "/data2/prasannaiyer/envs/NLP_py335/lib/python3.7/site-packages/seaborn/_decorators.py:43: FutureWarning: Pass the following variables as keyword args: x, y. From version 0.12, the only valid positional argument will be `data`, and passing other arguments without an explicit keyword will result in an error or misinterpretation.\n",
      "  FutureWarning\n"
     ]
    },
    {
     "data": {
      "text/plain": [
       "(array([0, 1]), [Text(0, 0, 'False'), Text(1, 0, 'True')])"
      ]
     },
     "execution_count": 117,
     "metadata": {},
     "output_type": "execute_result"
    },
    {
     "data": {
      "image/png": "[encoded data removed]",
      "text/plain": [
       "<Figure size 720x432 with 1 Axes>"
      ]
     },
     "metadata": {
      "needs_background": "light"
     },
     "output_type": "display_data"
    }
   ],
   "source": [
    "fig = plt.figure(figsize = (10, 6))\n",
    "#ax = sns.barplot(cv_model_accuracy_df['Category'], cv_model_accuracy_df['F1'], hue = cv_model_accuracy_df['Balanced'], \\\n",
    " #   order = np.append(category_subset_balanced, category_subset_unbalanced))\n",
    "ax = sns.barplot(cv_model_accuracy_df['Prominent_Category'], cv_model_accuracy_df['F1'])\n",
    "ax.set_title('F1 by Category Type')\n",
    "plt.xticks(rotation=90)"
   ]
  }
 ],
 "metadata": {
  "interpreter": {
   "hash": "e368b11b1a8d15efe0c225d9394c59cfe2fc4951c6cb9a0955fe398c541aa932"
  },
  "kernelspec": {
   "display_name": "Python 3.7.12",
   "language": "python",
   "name": "python3"
  },
  "language_info": {
   "codemirror_mode": {
    "name": "ipython",
    "version": 3
   },
   "file_extension": ".py",
   "mimetype": "text/x-python",
   "name": "python",
   "nbconvert_exporter": "python",
   "pygments_lexer": "ipython3",
   "version": "3.7.12"
  },
  "orig_nbformat": 4
 },
 "nbformat": 4,
 "nbformat_minor": 2
}
